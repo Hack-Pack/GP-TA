{
 "cells": [
  {
   "cell_type": "code",
   "execution_count": 1,
   "metadata": {},
   "outputs": [],
   "source": [
    "from models import *\n",
    "import pandas as pd\n",
    "from pathlib import Path "
   ]
  },
  {
   "cell_type": "code",
   "execution_count": 3,
   "metadata": {},
   "outputs": [],
   "source": []
  },
  {
   "cell_type": "code",
   "execution_count": 5,
   "metadata": {},
   "outputs": [],
   "source": [
    "df = {\n",
    "    'question_id': [1, 2, 3, 4],\n",
    "    'question': ['What is your name?', 'How old are you?', 'Where are you from?', 'What is your favorite color?'],\n",
    "    'answer': ['John', '25', 'USA', 'Blue']\n",
    "}"
   ]
  },
  {
   "cell_type": "code",
   "execution_count": 2,
   "metadata": {},
   "outputs": [
    {
     "name": "stdout",
     "output_type": "stream",
     "text": [
      "The student's answer, \"Natural selection is about survival of the fittest,\" is a common simplification of the concept of natural selection. While it captures a component of the idea, it lacks depth and specificity. The phrase \"survival of the fittest,\" coined by Herbert Spencer, can be misleading because \"fittest\" often gets misinterpreted as the strongest, fastest, or biggest. However, in the context of natural selection, \"fittest\" refers to an organism's ability to survive and reproduce in its specific environment. Fitness is about reproductive success, not just survival, and it is relative to the environment in which the organism lives.\n",
      "\n",
      "The instructor's answer, \"Natural selection is a mechanism by which individuals that have inherited beneficial adaptations show differential reproductive success,\" provides a more accurate and comprehensive explanation of the concept. This answer highlights several key elements:\n",
      "\n",
      "1. **Mechanism**: It identifies natural selection as a process or mechanism, which is a fundamental aspect of evolutionary theory.\n",
      "\n",
      "2. **Inherited Adaptations**: It emphasizes that the traits affected by natural selection are inherited, meaning they are passed down from parents to offspring through genes.\n",
      "\n",
      "3. **Beneficial Adaptations**: It specifies that the adaptations must be beneficial, which means they confer some advantage in the organism's environment that allows it to have better chances of survival and reproduction.\n",
      "\n",
      "4. **Differential Reproductive Success**: It introduces the concept of differential reproductive success, which is central to natural selection. This means that not all individuals will reproduce equally; those with beneficial adaptations are more likely to reproduce and pass on their genes to the next generation.\n",
      "\n",
      "In summary, while the student's answer touches on a component of natural selection, it does so in a way that is overly simplistic and potentially misleading. The instructor's answer, on the other hand, provides a nuanced and accurate description of natural selection, incorporating the critical elements of the process and its role in evolution. It is important for students to understand that natural selection is not just about who survives, but rather about who reproduces and passes on their genes most effectively. This understanding is crucial for a comprehensive grasp of evolutionary theory and the role of natural selection within it.\n"
     ]
    }
   ],
   "source": [
    "def evaluate_question(question, student_answer, instructor_answer):\n",
    "    # Initialize the TextModel with a specific model version\n",
    "    model = TextModel()\n",
    "    \n",
    "    # Craft the prompt to evaluate the student's answer\n",
    "    prompt = (f\"Given the question: '{question}', evaluate the student's answer: '{student_answer}' \"\n",
    "              f\"against the instructor's answer: '{instructor_answer}'. Provide a detailed analysis.\")\n",
    "    \n",
    "    # Use the TextModel to get the evaluation\n",
    "    evaluation = model.complete(prompt=prompt, role=\"user\")\n",
    "    \n",
    "    # Return the evaluation\n",
    "    return evaluation\n",
    "\n",
    "# Example of how to use the function\n",
    "question = \"Explain the significance of natural selection in evolution.\"\n",
    "student_answer = \"Natural selection is about survival of the fittest.\"\n",
    "instructor_answer = \"Natural selection is a mechanism by which individuals that have inherited beneficial adaptations show differential reproductive success.\"\n",
    "\n",
    "# Get the evaluation of the student's answer\n",
    "evaluation = evaluate_question(question, student_answer, instructor_answer)\n",
    "print(evaluation)"
   ]
  },
  {
   "cell_type": "code",
   "execution_count": 2,
   "metadata": {},
   "outputs": [
    {
     "data": {
      "text/plain": [
       "'```json\\n{\\n  \"Central_Limit_Theorem\": {\\n    \"Definition\": \"The Central Limit Theorem (CLT) states that the distribution of the sum (or average) of a large number of independent, identically distributed variables will be approximately normal, regardless of the underlying distribution of the variables.\",\\n    \"Key_Points\": {\\n      \"Normal_Distribution\": \"The theorem implies that the resulting distribution tends to a normal distribution (also known as a Gaussian distribution or bell curve) as the sample size increases.\",\\n      \"Sample_Size\": \"The sample size should be sufficiently large, typically n > 30 is considered enough for the CLT to hold, although this can vary depending on the actual distribution of the data.\",\\n      \"Independence\": \"The variables (or observations) must be independent, meaning the value of one observation does not influence or change the value of another.\",\\n      \"Identically_Distributed\": \"The variables must have the same probability distribution and therefore the same mean, variance, and standard deviation.\"\\n    },\\n    \"Implications\": {\\n      \"Predictability\": \"The CLT allows for making inferences and predictions about the population mean and variance based on sample statistics.\",\\n      \"Sampling_Distribution\": \"It provides a foundation for the concept of the sampling distribution of the mean, which is central to the field of inferential statistics.\",\\n      \"Confidence_Intervals\": \"It justifies the use of confidence intervals for means and the hypothesis testing of means, even when the population distribution is not normal.\",\\n      \"Error_Control\": \"The CLT helps in understanding the behavior of the mean of samples and how it is distributed, which is crucial for error control in various statistical applications.\"\\n    },\\n    \"Limitations\": {\\n      \"Non-Independent_Variables\": \"The CLT does not apply if the variables are not independent.\",\\n      \"Small_Sample_Sizes\": \"For small sample sizes, the approximation to a normal distribution may not be accurate, especially if the underlying distribution is far from normal.\",\\n      \"Extreme_Distributions\": \"In cases of distributions with significant skewness or heavy tails (like Cauchy distribution), the convergence to normality can be very slow or the CLT may not apply at all.\"\\n    }\\n  }\\n}\\n```'"
      ]
     },
     "execution_count": 2,
     "metadata": {},
     "output_type": "execute_result"
    }
   ],
   "source": [
    "llm_text = TextModel(model_name=\"gpt-4-1106-preview\")\n",
    "llm_text.complete(\"Explain Central Limit Theorem and give the answer in json format\", \"You are an expert Statistician\")"
   ]
  },
  {
   "cell_type": "code",
   "execution_count": 3,
   "metadata": {},
   "outputs": [
    {
     "data": {
      "text/plain": [
       "'{\\n    \"Central Limit Theorem\": \"The Central Limit Theorem states that the sampling distribution of the sample mean approaches a normal distribution as the sample size increases, regardless of the shape of the population distribution. This theorem is fundamental in statistics as it allows us to make inferences about a population based on a sample.\"\\n}'"
      ]
     },
     "execution_count": 3,
     "metadata": {},
     "output_type": "execute_result"
    }
   ],
   "source": [
    "llm_text = TextModel(model_name=\"gpt-3.5-turbo-0125\")\n",
    "llm_text.complete(\"Explain Central Limit Theorem and give the answer in json format\", \"You are an expert Statistician\")"
   ]
  },
  {
   "cell_type": "code",
   "execution_count": 2,
   "metadata": {},
   "outputs": [
    {
     "data": {
      "text/plain": [
       "'The questions in the image are:\\n\\nQ1: Solve for x: 2x + 5 = 15\\n\\nQ2: Find the roots of the quadratic equation: x^2 - 5x + 6 = 0'"
      ]
     },
     "execution_count": 2,
     "metadata": {},
     "output_type": "execute_result"
    }
   ],
   "source": [
    "llm_vision = VisionModel()\n",
    "llm_vision.complete(\"Extract all the questions in this image\", \"imgs/\")"
   ]
  },
  {
   "cell_type": "code",
   "execution_count": null,
   "metadata": {},
   "outputs": [],
   "source": [
    "speech_file_path = Path(__file__).parent / \"speech.mp3\""
   ]
  }
 ],
 "metadata": {
  "kernelspec": {
   "display_name": "base",
   "language": "python",
   "name": "python3"
  },
  "language_info": {
   "codemirror_mode": {
    "name": "ipython",
    "version": 3
   },
   "file_extension": ".py",
   "mimetype": "text/x-python",
   "name": "python",
   "nbconvert_exporter": "python",
   "pygments_lexer": "ipython3",
   "version": "3.10.9"
  }
 },
 "nbformat": 4,
 "nbformat_minor": 2
}
