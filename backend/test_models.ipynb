{
 "cells": [
  {
   "cell_type": "code",
   "execution_count": 2,
   "metadata": {},
   "outputs": [],
   "source": [
    "from models import *"
   ]
  },
  {
   "cell_type": "code",
   "execution_count": null,
   "metadata": {},
   "outputs": [],
   "source": []
  },
  {
   "cell_type": "code",
   "execution_count": 3,
   "metadata": {},
   "outputs": [
    {
     "data": {
      "text/plain": [
       "'{\\n  \"Central_Limit_Theorem\": {\\n    \"Definition\": \"The Central Limit Theorem (CLT) states that the distribution of the sum (or average) of a large number of independent, identically distributed variables will be approximately normally distributed, regardless of the original distribution of the variables.\",\\n    \"Conditions\": {\\n      \"1\": \"The variables must be independent.\",\\n      \"2\": \"The variables must be identically distributed, meaning they come from the same probability distribution with the same parameters.\",\\n      \"3\": \"The sample size must be sufficiently large. Although there is no universal rule for what constitutes a \\'large\\' sample, a common rule of thumb is that a sample size greater than or equal to 30 is considered sufficient for the CLT to hold.\"\\n    },\\n    \"Implications\": {\\n      \"1\": \"It allows for the use of normal distribution as an approximation for the sampling distribution of the sample mean, even when the underlying population distribution is not normal.\",\\n      \"2\": \"It provides a foundation for conducting hypothesis tests and creating confidence intervals for population parameters using sample data.\",\\n      \"3\": \"It justifies the use of parametric statistical methods which assume normally distributed data.\"\\n    },\\n    \"Limitations\": {\\n      \"1\": \"The theorem applies to the sum or average of variables, not to individual observations.\",\\n      \"2\": \"If the variables are not independent or identically distributed, the theorem may not apply.\",\\n      \"3\": \"For certain distributions, particularly those with heavy tails, a much larger sample size may be needed for the CLT to hold.\"\\n    }\\n  }\\n}'"
      ]
     },
     "execution_count": 3,
     "metadata": {},
     "output_type": "execute_result"
    }
   ],
   "source": [
    "llm_text = TextModel(model_name=\"gpt-4-1106-preview\")\n",
    "llm_text.complete(\"Explain Central Limit Theorem and give the answer in json format\", \"You are an expert Statistician\")"
   ]
  },
  {
   "cell_type": "code",
   "execution_count": null,
   "metadata": {},
   "outputs": [],
   "source": [
    "llm_text = TextModel(model_name=\"gpt-3.5-turbo-0125\")\n",
    "llm_text.complete(\"Explain Central Limit Theorem and give the answer in json format\", \"You are an expert Statistician\")"
   ]
  },
  {
   "cell_type": "code",
   "execution_count": 2,
   "metadata": {},
   "outputs": [
    {
     "data": {
      "text/plain": [
       "'The questions in the image are:\\n\\nQ1: Solve for x: 2x + 5 = 15\\n\\nQ2: Find the roots of the quadratic equation: x^2 - 5x + 6 = 0'"
      ]
     },
     "execution_count": 2,
     "metadata": {},
     "output_type": "execute_result"
    }
   ],
   "source": [
    "llm_vision = VisionModel()\n",
    "llm_vision.complete(\"Extract all the questions in this image\", \"imgs/\")"
   ]
  },
  {
   "cell_type": "code",
   "execution_count": null,
   "metadata": {},
   "outputs": [],
   "source": []
  }
 ],
 "metadata": {
  "kernelspec": {
   "display_name": "base",
   "language": "python",
   "name": "python3"
  },
  "language_info": {
   "codemirror_mode": {
    "name": "ipython",
    "version": 3
   },
   "file_extension": ".py",
   "mimetype": "text/x-python",
   "name": "python",
   "nbconvert_exporter": "python",
   "pygments_lexer": "ipython3",
   "version": "3.10.9"
  }
 },
 "nbformat": 4,
 "nbformat_minor": 2
}
